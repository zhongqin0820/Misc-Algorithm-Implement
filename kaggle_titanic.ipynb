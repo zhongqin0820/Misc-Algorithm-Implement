{
  "nbformat": 4,
  "nbformat_minor": 0,
  "metadata": {
    "colab": {
      "name": "kaggleTitanic.ipynb",
      "version": "0.3.2",
      "provenance": [],
      "include_colab_link": true
    },
    "kernelspec": {
      "name": "python3",
      "display_name": "Python 3"
    },
    "accelerator": "GPU"
  },
  "cells": [
    {
      "cell_type": "markdown",
      "metadata": {
        "id": "view-in-github",
        "colab_type": "text"
      },
      "source": [
        "[View in Colaboratory](https://colab.research.google.com/github/zhongqin0820/Misc-Algorithm-Implement/blob/master/kaggle_titanic.ipynb)"
      ]
    },
    {
      "metadata": {
        "id": "3J9YH0621dtl",
        "colab_type": "code",
        "colab": {}
      },
      "cell_type": "code",
      "source": [
        "!pip install -U -q kaggle"
      ],
      "execution_count": 0,
      "outputs": []
    },
    {
      "metadata": {
        "id": "fHI1sLo21wMP",
        "colab_type": "code",
        "colab": {
          "base_uri": "https://localhost:8080/",
          "height": 34
        },
        "outputId": "b3a10ffc-4256-40ab-ff83-078ae06d1a67"
      },
      "cell_type": "code",
      "source": [
        "from googleapiclient.discovery import build\n",
        "import io, os\n",
        "from googleapiclient.http import MediaIoBaseDownload\n",
        "from google.colab import auth\n",
        "auth.authenticate_user()\n",
        "drive_service = build('drive', 'v3')\n",
        "results = drive_service.files().list(\n",
        "        q=\"name = 'kaggle.json'\", fields=\"files(id)\").execute()\n",
        "kaggle_api_key = results.get('files', [])\n",
        "filename = \"/content/.kaggle/kaggle.json\"\n",
        "os.makedirs(os.path.dirname(filename), exist_ok=True)\n",
        "request = drive_service.files().get_media(fileId=kaggle_api_key[0]['id'])\n",
        "fh = io.FileIO(filename, 'wb')\n",
        "downloader = MediaIoBaseDownload(fh, request)\n",
        "done = False\n",
        "while done is False:\n",
        "    status, done = downloader.next_chunk()\n",
        "    print(\"Download %d%%.\" % int(status.progress() * 100))\n",
        "os.chmod(filename, 600)"
      ],
      "execution_count": 2,
      "outputs": [
        {
          "output_type": "stream",
          "text": [
            "Download 100%.\n"
          ],
          "name": "stdout"
        }
      ]
    },
    {
      "metadata": {
        "id": "19YfejLH1yZk",
        "colab_type": "code",
        "colab": {
          "base_uri": "https://localhost:8080/",
          "height": 168
        },
        "outputId": "3b0db6a7-1024-419b-e9f2-3c3c661fbd7e"
      },
      "cell_type": "code",
      "source": [
        "!kaggle competitions download -c titanic -p /content/kaggle/titanic"
      ],
      "execution_count": 3,
      "outputs": [
        {
          "output_type": "stream",
          "text": [
            "Downloading train.csv to /content/kaggle/titanic\r\n",
            "\r  0%|                                               | 0.00/59.8k [00:00<?, ?B/s]\r\n",
            "100%|██████████████████████████████████████| 59.8k/59.8k [00:00<00:00, 29.9MB/s]\n",
            "Downloading test.csv to /content/kaggle/titanic\n",
            "  0%|                                               | 0.00/28.0k [00:00<?, ?B/s]\n",
            "100%|██████████████████████████████████████| 28.0k/28.0k [00:00<00:00, 25.1MB/s]\n",
            "Downloading gender_submission.csv to /content/kaggle/titanic\n",
            "  0%|                                               | 0.00/3.18k [00:00<?, ?B/s]\n",
            "100%|██████████████████████████████████████| 3.18k/3.18k [00:00<00:00, 3.83MB/s]\n"
          ],
          "name": "stdout"
        }
      ]
    },
    {
      "metadata": {
        "id": "_ceInOL52HZG",
        "colab_type": "code",
        "colab": {
          "base_uri": "https://localhost:8080/",
          "height": 34
        },
        "outputId": "17c0c197-38f3-4951-dc60-ce74cbda1c44"
      },
      "cell_type": "code",
      "source": [
        "!ls /content/kaggle/titanic"
      ],
      "execution_count": 4,
      "outputs": [
        {
          "output_type": "stream",
          "text": [
            "gender_submission.csv  test.csv  train.csv\r\n"
          ],
          "name": "stdout"
        }
      ]
    },
    {
      "metadata": {
        "id": "erqNRkbB2Zgb",
        "colab_type": "code",
        "colab": {}
      },
      "cell_type": "code",
      "source": [
        "!pip install -U -q numpy\n",
        "!pip install -U -q pandas\n",
        "!pip install -U -q matplotlib\n",
        "!pip install -U -q sklearn\n",
        "!pip install -U -q xgboost # to use XGBoost\n",
        "# !pip install -U -q re"
      ],
      "execution_count": 0,
      "outputs": []
    },
    {
      "metadata": {
        "id": "nLpBcEP_2riF",
        "colab_type": "code",
        "colab": {
          "base_uri": "https://localhost:8080/",
          "height": 319
        },
        "outputId": "69099c84-ccb6-4f50-8067-3f465327c4a3"
      },
      "cell_type": "code",
      "source": [
        "%matplotlib inline\n",
        "import numpy as np\n",
        "import pandas as pd\n",
        "import re as re\n",
        "\n",
        "train = pd.read_csv('/content/kaggle/titanic/train.csv', header = 0, dtype={'Age': np.float64})\n",
        "test  = pd.read_csv('/content/kaggle/titanic/test.csv' , header = 0, dtype={'Age': np.float64})\n",
        "full_data = [train, test]\n",
        "\n",
        "print (train.info())"
      ],
      "execution_count": 7,
      "outputs": [
        {
          "output_type": "stream",
          "text": [
            "<class 'pandas.core.frame.DataFrame'>\n",
            "RangeIndex: 891 entries, 0 to 890\n",
            "Data columns (total 12 columns):\n",
            "PassengerId    891 non-null int64\n",
            "Survived       891 non-null int64\n",
            "Pclass         891 non-null int64\n",
            "Name           891 non-null object\n",
            "Sex            891 non-null object\n",
            "Age            714 non-null float64\n",
            "SibSp          891 non-null int64\n",
            "Parch          891 non-null int64\n",
            "Ticket         891 non-null object\n",
            "Fare           891 non-null float64\n",
            "Cabin          204 non-null object\n",
            "Embarked       889 non-null object\n",
            "dtypes: float64(2), int64(5), object(5)\n",
            "memory usage: 83.6+ KB\n",
            "None\n"
          ],
          "name": "stdout"
        }
      ]
    },
    {
      "metadata": {
        "id": "6v0Jz3sI3CDY",
        "colab_type": "code",
        "colab": {
          "base_uri": "https://localhost:8080/",
          "height": 84
        },
        "outputId": "c5f07c3d-7443-4902-d056-634943a1fffb"
      },
      "cell_type": "code",
      "source": [
        "print (train[['Pclass', 'Survived']].groupby(['Pclass'], as_index=False).mean())"
      ],
      "execution_count": 8,
      "outputs": [
        {
          "output_type": "stream",
          "text": [
            "   Pclass  Survived\n",
            "0       1  0.629630\n",
            "1       2  0.472826\n",
            "2       3  0.242363\n"
          ],
          "name": "stdout"
        }
      ]
    },
    {
      "metadata": {
        "id": "PIl4ewPb3Ms1",
        "colab_type": "code",
        "colab": {
          "base_uri": "https://localhost:8080/",
          "height": 67
        },
        "outputId": "45997eab-ea97-47a2-f71b-b5e5be1a99fa"
      },
      "cell_type": "code",
      "source": [
        "print (train[[\"Sex\", \"Survived\"]].groupby(['Sex'], as_index=False).mean())"
      ],
      "execution_count": 9,
      "outputs": [
        {
          "output_type": "stream",
          "text": [
            "      Sex  Survived\n",
            "0  female  0.742038\n",
            "1    male  0.188908\n"
          ],
          "name": "stdout"
        }
      ]
    },
    {
      "metadata": {
        "id": "87vR1Wb13Wz-",
        "colab_type": "code",
        "colab": {
          "base_uri": "https://localhost:8080/",
          "height": 185
        },
        "outputId": "3f8ba523-6849-40e9-d11c-66cd23034f2c"
      },
      "cell_type": "code",
      "source": [
        "for dataset in full_data:\n",
        "    dataset['FamilySize'] = dataset['SibSp'] + dataset['Parch'] + 1\n",
        "print (train[['FamilySize', 'Survived']].groupby(['FamilySize'], as_index=False).mean())"
      ],
      "execution_count": 10,
      "outputs": [
        {
          "output_type": "stream",
          "text": [
            "   FamilySize  Survived\n",
            "0           1  0.303538\n",
            "1           2  0.552795\n",
            "2           3  0.578431\n",
            "3           4  0.724138\n",
            "4           5  0.200000\n",
            "5           6  0.136364\n",
            "6           7  0.333333\n",
            "7           8  0.000000\n",
            "8          11  0.000000\n"
          ],
          "name": "stdout"
        }
      ]
    },
    {
      "metadata": {
        "id": "0w1VHCSg3gYh",
        "colab_type": "code",
        "colab": {
          "base_uri": "https://localhost:8080/",
          "height": 67
        },
        "outputId": "0e526d4a-c2e0-4742-ba0a-b026429959c7"
      },
      "cell_type": "code",
      "source": [
        "for dataset in full_data:\n",
        "    dataset['IsAlone'] = 0\n",
        "    dataset.loc[dataset['FamilySize'] == 1, 'IsAlone'] = 1\n",
        "print (train[['IsAlone', 'Survived']].groupby(['IsAlone'], as_index=False).mean())"
      ],
      "execution_count": 11,
      "outputs": [
        {
          "output_type": "stream",
          "text": [
            "   IsAlone  Survived\n",
            "0        0  0.505650\n",
            "1        1  0.303538\n"
          ],
          "name": "stdout"
        }
      ]
    },
    {
      "metadata": {
        "id": "imPGFWun3lPq",
        "colab_type": "code",
        "colab": {
          "base_uri": "https://localhost:8080/",
          "height": 84
        },
        "outputId": "8bead304-92d9-4ae7-d0ed-209423465300"
      },
      "cell_type": "code",
      "source": [
        "for dataset in full_data:\n",
        "    dataset['Embarked'] = dataset['Embarked'].fillna('S')\n",
        "print (train[['Embarked', 'Survived']].groupby(['Embarked'], as_index=False).mean())"
      ],
      "execution_count": 12,
      "outputs": [
        {
          "output_type": "stream",
          "text": [
            "  Embarked  Survived\n",
            "0        C  0.553571\n",
            "1        Q  0.389610\n",
            "2        S  0.339009\n"
          ],
          "name": "stdout"
        }
      ]
    },
    {
      "metadata": {
        "id": "X9ZCzCTd3q2d",
        "colab_type": "code",
        "colab": {
          "base_uri": "https://localhost:8080/",
          "height": 101
        },
        "outputId": "acfd6aa8-53f5-46e3-cf67-ce813cfc3c27"
      },
      "cell_type": "code",
      "source": [
        "for dataset in full_data:\n",
        "    dataset['Fare'] = dataset['Fare'].fillna(train['Fare'].median())\n",
        "train['CategoricalFare'] = pd.qcut(train['Fare'], 4)\n",
        "print (train[['CategoricalFare', 'Survived']].groupby(['CategoricalFare'], as_index=False).mean())"
      ],
      "execution_count": 13,
      "outputs": [
        {
          "output_type": "stream",
          "text": [
            "   CategoricalFare  Survived\n",
            "0   (-0.001, 7.91]  0.197309\n",
            "1   (7.91, 14.454]  0.303571\n",
            "2   (14.454, 31.0]  0.454955\n",
            "3  (31.0, 512.329]  0.581081\n"
          ],
          "name": "stdout"
        }
      ]
    },
    {
      "metadata": {
        "id": "5AELpihR3vr0",
        "colab_type": "code",
        "colab": {
          "base_uri": "https://localhost:8080/",
          "height": 202
        },
        "outputId": "98d7c01a-c15a-4610-fc49-7cfba2946cd3"
      },
      "cell_type": "code",
      "source": [
        "import sys\n",
        "for dataset in full_data:\n",
        "    age_avg \t   = dataset['Age'].mean()\n",
        "    age_std \t   = dataset['Age'].std()\n",
        "    age_null_count = dataset['Age'].isnull().sum()\n",
        "    \n",
        "    age_null_random_list = np.random.randint(age_avg - age_std, age_avg + age_std, size=age_null_count)\n",
        "    dataset['Age'][np.isnan(dataset['Age'])] = age_null_random_list\n",
        "    dataset['Age'] = dataset['Age'].astype(int)\n",
        "    \n",
        "train['CategoricalAge'] = pd.cut(train['Age'], 5)\n",
        "\n",
        "print(train[['CategoricalAge', 'Survived']].groupby(['CategoricalAge'], as_index=False).mean())"
      ],
      "execution_count": 15,
      "outputs": [
        {
          "output_type": "stream",
          "text": [
            "  CategoricalAge  Survived\n",
            "0  (-0.08, 16.0]  0.526786\n",
            "1   (16.0, 32.0]  0.357303\n",
            "2   (32.0, 48.0]  0.366142\n",
            "3   (48.0, 64.0]  0.434783\n",
            "4   (64.0, 80.0]  0.090909\n"
          ],
          "name": "stdout"
        },
        {
          "output_type": "stream",
          "text": [
            "/usr/local/lib/python3.6/dist-packages/ipykernel_launcher.py:8: SettingWithCopyWarning: \n",
            "A value is trying to be set on a copy of a slice from a DataFrame\n",
            "\n",
            "See the caveats in the documentation: http://pandas.pydata.org/pandas-docs/stable/indexing.html#indexing-view-versus-copy\n",
            "  \n"
          ],
          "name": "stderr"
        }
      ]
    },
    {
      "metadata": {
        "id": "RUZ1y-_b4A6D",
        "colab_type": "code",
        "colab": {
          "base_uri": "https://localhost:8080/",
          "height": 336
        },
        "outputId": "469eafd3-b1e5-445f-a1fd-e5e94760acab"
      },
      "cell_type": "code",
      "source": [
        "def get_title(name):\n",
        "\ttitle_search = re.search(' ([A-Za-z]+)\\.', name)\n",
        "\t# If the title exists, extract and return it.\n",
        "\tif title_search:\n",
        "\t\treturn title_search.group(1)\n",
        "\treturn \"\"\n",
        "\n",
        "for dataset in full_data:\n",
        "    dataset['Title'] = dataset['Name'].apply(get_title)\n",
        "\n",
        "print(pd.crosstab(train['Title'], train['Sex']))"
      ],
      "execution_count": 16,
      "outputs": [
        {
          "output_type": "stream",
          "text": [
            "Sex       female  male\n",
            "Title                 \n",
            "Capt           0     1\n",
            "Col            0     2\n",
            "Countess       1     0\n",
            "Don            0     1\n",
            "Dr             1     6\n",
            "Jonkheer       0     1\n",
            "Lady           1     0\n",
            "Major          0     2\n",
            "Master         0    40\n",
            "Miss         182     0\n",
            "Mlle           2     0\n",
            "Mme            1     0\n",
            "Mr             0   517\n",
            "Mrs          125     0\n",
            "Ms             1     0\n",
            "Rev            0     6\n",
            "Sir            0     1\n"
          ],
          "name": "stdout"
        }
      ]
    },
    {
      "metadata": {
        "id": "CUh6JLMx4H7r",
        "colab_type": "code",
        "colab": {
          "base_uri": "https://localhost:8080/",
          "height": 118
        },
        "outputId": "83000e07-2f08-40e2-87ff-bcdb49092ac9"
      },
      "cell_type": "code",
      "source": [
        "for dataset in full_data:\n",
        "    dataset['Title'] = dataset['Title'].replace(['Lady', 'Countess','Capt', 'Col',\\\n",
        " \t'Don', 'Dr', 'Major', 'Rev', 'Sir', 'Jonkheer', 'Dona'], 'Rare')\n",
        "\n",
        "    dataset['Title'] = dataset['Title'].replace('Mlle', 'Miss')\n",
        "    dataset['Title'] = dataset['Title'].replace('Ms', 'Miss')\n",
        "    dataset['Title'] = dataset['Title'].replace('Mme', 'Mrs')\n",
        "\n",
        "print (train[['Title', 'Survived']].groupby(['Title'], as_index=False).mean())"
      ],
      "execution_count": 17,
      "outputs": [
        {
          "output_type": "stream",
          "text": [
            "    Title  Survived\n",
            "0  Master  0.575000\n",
            "1    Miss  0.702703\n",
            "2      Mr  0.156673\n",
            "3     Mrs  0.793651\n",
            "4    Rare  0.347826\n"
          ],
          "name": "stdout"
        }
      ]
    },
    {
      "metadata": {
        "id": "i2iOoHer4Wbo",
        "colab_type": "code",
        "colab": {
          "base_uri": "https://localhost:8080/",
          "height": 202
        },
        "outputId": "671b800e-b6c7-46fe-b029-124d66fbd90f"
      },
      "cell_type": "code",
      "source": [
        "for dataset in full_data:\n",
        "    # Mapping Sex\n",
        "    dataset['Sex'] = dataset['Sex'].map( {'female': 0, 'male': 1} ).astype(int)\n",
        "    \n",
        "    # Mapping titles\n",
        "    title_mapping = {\"Mr\": 1, \"Miss\": 2, \"Mrs\": 3, \"Master\": 4, \"Rare\": 5}\n",
        "    dataset['Title'] = dataset['Title'].map(title_mapping)\n",
        "    dataset['Title'] = dataset['Title'].fillna(0)\n",
        "    \n",
        "    # Mapping Embarked\n",
        "    dataset['Embarked'] = dataset['Embarked'].map( {'S': 0, 'C': 1, 'Q': 2} ).astype(int)\n",
        "    \n",
        "    # Mapping Fare\n",
        "    dataset.loc[ dataset['Fare'] <= 7.91, 'Fare'] \t\t\t\t\t\t        = 0\n",
        "    dataset.loc[(dataset['Fare'] > 7.91) & (dataset['Fare'] <= 14.454), 'Fare'] = 1\n",
        "    dataset.loc[(dataset['Fare'] > 14.454) & (dataset['Fare'] <= 31), 'Fare']   = 2\n",
        "    dataset.loc[ dataset['Fare'] > 31, 'Fare'] \t\t\t\t\t\t\t        = 3\n",
        "    dataset['Fare'] = dataset['Fare'].astype(int)\n",
        "    \n",
        "    # Mapping Age\n",
        "    dataset.loc[ dataset['Age'] <= 16, 'Age'] \t\t\t\t\t       = 0\n",
        "    dataset.loc[(dataset['Age'] > 16) & (dataset['Age'] <= 32), 'Age'] = 1\n",
        "    dataset.loc[(dataset['Age'] > 32) & (dataset['Age'] <= 48), 'Age'] = 2\n",
        "    dataset.loc[(dataset['Age'] > 48) & (dataset['Age'] <= 64), 'Age'] = 3\n",
        "    dataset.loc[ dataset['Age'] > 64, 'Age']                           = 4\n",
        "\n",
        "# Feature Selection\n",
        "drop_elements = ['PassengerId', 'Name', 'Ticket', 'Cabin', 'SibSp',\\\n",
        "                 'Parch', 'FamilySize']\n",
        "train = train.drop(drop_elements, axis = 1)\n",
        "train = train.drop(['CategoricalAge', 'CategoricalFare'], axis = 1)\n",
        "\n",
        "test  = test.drop(drop_elements, axis = 1)\n",
        "\n",
        "print (train.head(10))\n",
        "\n",
        "train = train.values\n",
        "test  = test.values"
      ],
      "execution_count": 18,
      "outputs": [
        {
          "output_type": "stream",
          "text": [
            "   Survived  Pclass  Sex  Age  Fare  Embarked  IsAlone  Title\n",
            "0         0       3    1    1     0         0        0      1\n",
            "1         1       1    0    2     3         1        0      3\n",
            "2         1       3    0    1     1         0        1      2\n",
            "3         1       1    0    2     3         0        0      3\n",
            "4         0       3    1    2     1         0        1      1\n",
            "5         0       3    1    1     1         2        1      1\n",
            "6         0       1    1    3     3         0        1      1\n",
            "7         0       3    1    0     2         0        0      4\n",
            "8         1       3    0    1     1         0        0      3\n",
            "9         1       2    0    0     2         1        0      3\n"
          ],
          "name": "stdout"
        }
      ]
    },
    {
      "metadata": {
        "id": "Tmd_Xa384jc6",
        "colab_type": "code",
        "colab": {
          "base_uri": "https://localhost:8080/",
          "height": 398
        },
        "outputId": "f0bb1fb1-9676-4538-8fdd-aa821b6f4f3e"
      },
      "cell_type": "code",
      "source": [
        "import matplotlib.pyplot as plt\n",
        "import seaborn as sns\n",
        "\n",
        "from sklearn.model_selection import StratifiedShuffleSplit\n",
        "from sklearn.metrics import accuracy_score, log_loss\n",
        "from sklearn.neighbors import KNeighborsClassifier\n",
        "from sklearn.svm import SVC\n",
        "from sklearn.tree import DecisionTreeClassifier\n",
        "from sklearn.ensemble import RandomForestClassifier, AdaBoostClassifier, GradientBoostingClassifier\n",
        "from sklearn.naive_bayes import GaussianNB\n",
        "from sklearn.discriminant_analysis import LinearDiscriminantAnalysis, QuadraticDiscriminantAnalysis\n",
        "from sklearn.linear_model import LogisticRegression\n",
        "\n",
        "classifiers = [\n",
        "    KNeighborsClassifier(3),\n",
        "    SVC(probability=True),\n",
        "    DecisionTreeClassifier(),\n",
        "    RandomForestClassifier(),\n",
        "\t  AdaBoostClassifier(),\n",
        "    GradientBoostingClassifier(),\n",
        "    GaussianNB(),\n",
        "    LinearDiscriminantAnalysis(),\n",
        "    QuadraticDiscriminantAnalysis(),\n",
        "    LogisticRegression()]\n",
        "\n",
        "log_cols = [\"Classifier\", \"Accuracy\"]\n",
        "log \t = pd.DataFrame(columns=log_cols)\n",
        "\n",
        "sss = StratifiedShuffleSplit(n_splits=10, test_size=0.1, random_state=0)\n",
        "\n",
        "X = train[0::, 1::]\n",
        "y = train[0::, 0]\n",
        "\n",
        "acc_dict = {}\n",
        "\n",
        "for train_index, test_index in sss.split(X, y):\n",
        "\tX_train, X_test = X[train_index], X[test_index]\n",
        "\ty_train, y_test = y[train_index], y[test_index]\n",
        "\t\n",
        "\tfor clf in classifiers:\n",
        "\t\tname = clf.__class__.__name__\n",
        "\t\tclf.fit(X_train, y_train)\n",
        "\t\ttrain_predictions = clf.predict(X_test)\n",
        "\t\tacc = accuracy_score(y_test, train_predictions)\n",
        "\t\tif name in acc_dict:\n",
        "\t\t\tacc_dict[name] += acc\n",
        "\t\telse:\n",
        "\t\t\tacc_dict[name] = acc\n",
        "\n",
        "for clf in acc_dict:\n",
        "\tacc_dict[clf] = acc_dict[clf] / 10.0\n",
        "\tlog_entry = pd.DataFrame([[clf, acc_dict[clf]]], columns=log_cols)\n",
        "\tlog = log.append(log_entry)\n",
        "\n",
        "plt.xlabel('Accuracy')\n",
        "plt.title('Classifier Accuracy')\n",
        "\n",
        "sns.set_color_codes(\"muted\")\n",
        "sns.barplot(x='Accuracy', y='Classifier', data=log, color=\"b\")"
      ],
      "execution_count": 19,
      "outputs": [
        {
          "output_type": "stream",
          "text": [
            "/usr/local/lib/python3.6/dist-packages/sklearn/ensemble/weight_boosting.py:29: DeprecationWarning: numpy.core.umath_tests is an internal NumPy module and should not be imported. It will be removed in a future NumPy release.\n",
            "  from numpy.core.umath_tests import inner1d\n",
            "/usr/local/lib/python3.6/dist-packages/seaborn/categorical.py:1428: FutureWarning: remove_na is deprecated and is a private function. Do not use.\n",
            "  stat_data = remove_na(group_data)\n"
          ],
          "name": "stderr"
        },
        {
          "output_type": "execute_result",
          "data": {
            "text/plain": [
              "<matplotlib.axes._subplots.AxesSubplot at 0x7ff870cb1fd0>"
            ]
          },
          "metadata": {
            "tags": []
          },
          "execution_count": 19
        },
        {
          "output_type": "display_data",
          "data": {
            "image/png": "[encoded data removed]",
            "text/plain": [
              "<matplotlib.figure.Figure at 0x7ff870cf78d0>"
            ]
          },
          "metadata": {
            "tags": []
          }
        }
      ]
    },
    {
      "metadata": {
        "id": "CxuoyshE4orM",
        "colab_type": "code",
        "colab": {}
      },
      "cell_type": "code",
      "source": [
        "candidate_classifier = GradientBoostingClassifier()\n",
        "candidate_classifier.fit(train[0::, 1::], train[0::, 0])\n",
        "result = candidate_classifier.predict(test)"
      ],
      "execution_count": 0,
      "outputs": []
    },
    {
      "metadata": {
        "id": "OxFwpgis5Snc",
        "colab_type": "code",
        "colab": {}
      },
      "cell_type": "code",
      "source": [
        "sub_result = pd.DataFrame()\n",
        "sub_result['PassengerId'] = pd.read_csv('/content/kaggle/titanic/test.csv')['PassengerId']\n",
        "sub_result['Survived'] = pd.DataFrame(result, columns=['Survived']).astype(int)\n"
      ],
      "execution_count": 0,
      "outputs": []
    },
    {
      "metadata": {
        "id": "aI5OtKfu-5Pi",
        "colab_type": "code",
        "colab": {
          "base_uri": "https://localhost:8080/",
          "height": 195
        },
        "outputId": "4eee9c01-3313-4854-c067-e4518848aae5"
      },
      "cell_type": "code",
      "source": [
        "sub_result.head()"
      ],
      "execution_count": 66,
      "outputs": [
        {
          "output_type": "execute_result",
          "data": {
            "text/html": [
              "<div>\n",
              "<style scoped>\n",
              "    .dataframe tbody tr th:only-of-type {\n",
              "        vertical-align: middle;\n",
              "    }\n",
              "\n",
              "    .dataframe tbody tr th {\n",
              "        vertical-align: top;\n",
              "    }\n",
              "\n",
              "    .dataframe thead th {\n",
              "        text-align: right;\n",
              "    }\n",
              "</style>\n",
              "<table border=\"1\" class=\"dataframe\">\n",
              "  <thead>\n",
              "    <tr style=\"text-align: right;\">\n",
              "      <th></th>\n",
              "      <th>PassengerId</th>\n",
              "      <th>Survived</th>\n",
              "    </tr>\n",
              "  </thead>\n",
              "  <tbody>\n",
              "    <tr>\n",
              "      <th>0</th>\n",
              "      <td>892</td>\n",
              "      <td>0</td>\n",
              "    </tr>\n",
              "    <tr>\n",
              "      <th>1</th>\n",
              "      <td>893</td>\n",
              "      <td>1</td>\n",
              "    </tr>\n",
              "    <tr>\n",
              "      <th>2</th>\n",
              "      <td>894</td>\n",
              "      <td>0</td>\n",
              "    </tr>\n",
              "    <tr>\n",
              "      <th>3</th>\n",
              "      <td>895</td>\n",
              "      <td>0</td>\n",
              "    </tr>\n",
              "    <tr>\n",
              "      <th>4</th>\n",
              "      <td>896</td>\n",
              "      <td>1</td>\n",
              "    </tr>\n",
              "  </tbody>\n",
              "</table>\n",
              "</div>"
            ],
            "text/plain": [
              "   PassengerId  Survived\n",
              "0          892         0\n",
              "1          893         1\n",
              "2          894         0\n",
              "3          895         0\n",
              "4          896         1"
            ]
          },
          "metadata": {
            "tags": []
          },
          "execution_count": 66
        }
      ]
    },
    {
      "metadata": {
        "id": "fgP0pgWkCT53",
        "colab_type": "code",
        "colab": {}
      },
      "cell_type": "code",
      "source": [
        "sub_result.to_csv('sub.csv',index=False)"
      ],
      "execution_count": 0,
      "outputs": []
    },
    {
      "metadata": {
        "id": "hEV26JwK8Ptd",
        "colab_type": "code",
        "colab": {
          "base_uri": "https://localhost:8080/",
          "height": 34
        },
        "outputId": "9462daba-b6d3-4520-ac3f-575e403893be"
      },
      "cell_type": "code",
      "source": [
        "!ls"
      ],
      "execution_count": 74,
      "outputs": [
        {
          "output_type": "stream",
          "text": [
            "datalab  kaggle  sub.csv\r\n"
          ],
          "name": "stdout"
        }
      ]
    },
    {
      "metadata": {
        "id": "EysIXIrCCq_F",
        "colab_type": "code",
        "colab": {
          "base_uri": "https://localhost:8080/",
          "height": 34
        },
        "outputId": "300b93dd-afd7-4b70-ceef-0fcefa446b2d"
      },
      "cell_type": "code",
      "source": [
        "!kaggle competitions submit -c titanic -f sub.csv -m \"fix format issues\""
      ],
      "execution_count": 75,
      "outputs": [
        {
          "output_type": "stream",
          "text": [
            "Successfully submitted to Titanic: Machine Learning from Disaster"
          ],
          "name": "stdout"
        }
      ]
    },
    {
      "metadata": {
        "id": "NUGCuMe58SiW",
        "colab_type": "code",
        "colab": {
          "base_uri": "https://localhost:8080/",
          "height": 185
        },
        "outputId": "99d34551-386a-4565-d9f1-ea338571afcc"
      },
      "cell_type": "code",
      "source": [
        "!head sub.csv"
      ],
      "execution_count": 76,
      "outputs": [
        {
          "output_type": "stream",
          "text": [
            "PassengerId,Survived\r\n",
            "892,0\r\n",
            "893,1\r\n",
            "894,0\r\n",
            "895,0\r\n",
            "896,1\r\n",
            "897,0\r\n",
            "898,1\r\n",
            "899,0\r\n",
            "900,1\r\n"
          ],
          "name": "stdout"
        }
      ]
    }
  ]
}