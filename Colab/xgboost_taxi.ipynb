{
  "nbformat": 4,
  "nbformat_minor": 0,
  "metadata": {
    "colab": {
      "name": "kaggleTaxi.ipynb",
      "version": "0.3.2",
      "provenance": [],
      "collapsed_sections": [],
      "toc_visible": true,
      "include_colab_link": true
    },
    "kernelspec": {
      "name": "python3",
      "display_name": "Python 3"
    },
    "accelerator": "GPU"
  },
  "cells": [
    {
      "cell_type": "markdown",
      "metadata": {
        "id": "view-in-github",
        "colab_type": "text"
      },
      "source": [
        "[View in Colaboratory](https://colab.research.google.com/github/zhongqin0820/Misc-Algorithm-Implement/blob/master/Colab/xgboost_taxi.ipynb)"
      ]
    },
    {
      "metadata": {
        "id": "4pm6_jZH7nEp",
        "colab_type": "text"
      },
      "cell_type": "markdown",
      "source": [
        "# 配置环境"
      ]
    },
    {
      "metadata": {
        "id": "j_1UZWedzp33",
        "colab_type": "text"
      },
      "cell_type": "markdown",
      "source": [
        "## Kaggle API\n",
        "注意此处使用的链接中谷歌OAuth2的验证码"
      ]
    },
    {
      "metadata": {
        "id": "_Z2w-djO7b5j",
        "colab_type": "code",
        "colab": {}
      },
      "cell_type": "code",
      "source": [
        "!pip install -U -q kaggle"
      ],
      "execution_count": 0,
      "outputs": []
    },
    {
      "metadata": {
        "id": "s_MUjVCVa0P0",
        "colab_type": "code",
        "colab": {
          "base_uri": "https://localhost:8080/",
          "height": 34
        },
        "outputId": "6407cb19-0243-421a-f09f-80fd246373fb"
      },
      "cell_type": "code",
      "source": [
        "from googleapiclient.discovery import build\n",
        "import io, os\n",
        "from googleapiclient.http import MediaIoBaseDownload\n",
        "from google.colab import auth\n",
        "auth.authenticate_user()\n",
        "drive_service = build('drive', 'v3')\n",
        "results = drive_service.files().list(\n",
        "        q=\"name = 'kaggle.json'\", fields=\"files(id)\").execute()\n",
        "kaggle_api_key = results.get('files', [])\n",
        "filename = \"/content/.kaggle/kaggle.json\"\n",
        "os.makedirs(os.path.dirname(filename), exist_ok=True)\n",
        "request = drive_service.files().get_media(fileId=kaggle_api_key[0]['id'])\n",
        "fh = io.FileIO(filename, 'wb')\n",
        "downloader = MediaIoBaseDownload(fh, request)\n",
        "done = False\n",
        "while done is False:\n",
        "    status, done = downloader.next_chunk()\n",
        "    print(\"Download %d%%.\" % int(status.progress() * 100))\n",
        "os.chmod(filename, 600)"
      ],
      "execution_count": 5,
      "outputs": [
        {
          "output_type": "stream",
          "text": [
            "Download 100%.\n"
          ],
          "name": "stdout"
        }
      ]
    },
    {
      "metadata": {
        "id": "G-1Ws-K1b4tF",
        "colab_type": "code",
        "colab": {}
      },
      "cell_type": "code",
      "source": [
        "!kaggle competitions list"
      ],
      "execution_count": 0,
      "outputs": []
    },
    {
      "metadata": {
        "id": "fQ5q7yjCdbwh",
        "colab_type": "text"
      },
      "cell_type": "markdown",
      "source": [
        "### 下载数据集到GoogleDrive\n",
        "使用\n",
        "```\n",
        "!kaggle competitions download -c nyc-taxi-trip-duration -p /content/kaggle\n",
        "```\n",
        "指定数据下载到目录`/content/kaggle`"
      ]
    },
    {
      "metadata": {
        "id": "Tlv_jFsLYuP_",
        "colab_type": "code",
        "colab": {}
      },
      "cell_type": "code",
      "source": [
        "!kaggle competitions download -c nyc-taxi-trip-duration -p /content/kaggle"
      ],
      "execution_count": 0,
      "outputs": []
    },
    {
      "metadata": {
        "id": "5-qreLHocLY7",
        "colab_type": "code",
        "colab": {
          "base_uri": "https://localhost:8080/",
          "height": 34
        },
        "outputId": "3a4b40d0-de26-44f0-db34-4c6271566615"
      },
      "cell_type": "code",
      "source": [
        "!ls /content/kaggle # list the content in /content/kaggle"
      ],
      "execution_count": 7,
      "outputs": [
        {
          "output_type": "stream",
          "text": [
            "sample_submission.zip  test.zip  train.zip\r\n"
          ],
          "name": "stdout"
        }
      ]
    },
    {
      "metadata": {
        "id": "rynaeiWBgI5P",
        "colab_type": "text"
      },
      "cell_type": "markdown",
      "source": [
        "## XGBoost\n",
        "下载依赖包"
      ]
    },
    {
      "metadata": {
        "id": "MfUQwL3Baqzd",
        "colab_type": "code",
        "colab": {}
      },
      "cell_type": "code",
      "source": [
        "!pip install -U -q numpy\n",
        "!pip install -U -q pandas\n",
        "!pip install -U -q matplotlib\n",
        "!pip install -U -q sklearn\n",
        "!pip install -U -q xgboost # to use XGBoost"
      ],
      "execution_count": 0,
      "outputs": []
    },
    {
      "metadata": {
        "id": "YVcLlnPAGatV",
        "colab_type": "text"
      },
      "cell_type": "markdown",
      "source": [
        "# 训练模型"
      ]
    },
    {
      "metadata": {
        "id": "_fQLsewFgSTz",
        "colab_type": "text"
      },
      "cell_type": "markdown",
      "source": [
        "### 预处理\n",
        "使用zipfile解压数据， 也可以直接使用pandas读取数据的时候指定数据的解压方式等。"
      ]
    },
    {
      "metadata": {
        "id": "_J2SYUochfKk",
        "colab_type": "code",
        "colab": {}
      },
      "cell_type": "code",
      "source": [
        "import zipfile\n",
        "import os\n",
        "for file in os.listdir(r'/content/kaggle/'):\n",
        "    print('/content/kaggle/'+file)\n",
        "    f = zipfile.ZipFile('/content/kaggle/'+file, 'r')\n",
        "    for file in f.namelist():\n",
        "        f.extract(file,\"/content/kaggle/taxi/\")"
      ],
      "execution_count": 0,
      "outputs": []
    },
    {
      "metadata": {
        "id": "My2W3jOUiwk0",
        "colab_type": "code",
        "colab": {
          "base_uri": "https://localhost:8080/",
          "height": 34
        },
        "outputId": "f6196f76-8178-4b3b-d232-2a255ee7bba5"
      },
      "cell_type": "code",
      "source": [
        "!ls /content/kaggle/taxi/"
      ],
      "execution_count": 10,
      "outputs": [
        {
          "output_type": "stream",
          "text": [
            "sample_submission.csv  test.csv  train.csv\r\n"
          ],
          "name": "stdout"
        }
      ]
    },
    {
      "metadata": {
        "id": "xMbjp3aA7gLF",
        "colab_type": "code",
        "colab": {}
      },
      "cell_type": "code",
      "source": [
        "import numpy as np\n",
        "import pandas as pd\n",
        "import matplotlib.pyplot as plt\n",
        "import xgboost as xgb\n",
        "%matplotlib inline\n",
        "dataPath = '/content/kaggle/taxi/'"
      ],
      "execution_count": 0,
      "outputs": []
    },
    {
      "metadata": {
        "id": "ocLkTD90ljlV",
        "colab_type": "code",
        "colab": {}
      },
      "cell_type": "code",
      "source": [
        "from sklearn.model_selection import ShuffleSplit\n",
        "from sklearn.model_selection import cross_val_score\n",
        "from sklearn.grid_search import GridSearchCV"
      ],
      "execution_count": 0,
      "outputs": []
    },
    {
      "metadata": {
        "id": "Wr9N08iUzExu",
        "colab_type": "text"
      },
      "cell_type": "markdown",
      "source": [
        "需要处理header的情况，以及注意features和label的维数是否一致的问题"
      ]
    },
    {
      "metadata": {
        "id": "M1fm4_iq7mB2",
        "colab_type": "code",
        "colab": {}
      },
      "cell_type": "code",
      "source": [
        "df = pd.read_csv(dataPath+'train.csv')"
      ],
      "execution_count": 0,
      "outputs": []
    },
    {
      "metadata": {
        "id": "jIE-8BIg7Xl-",
        "colab_type": "code",
        "colab": {}
      },
      "cell_type": "code",
      "source": [
        "df.passenger_count = df.passenger_count.astype(np.uint8)\n",
        "df.vendor_id = df.vendor_id.astype(np.uint8)\n",
        "df.trip_duration = df.trip_duration.astype(np.uint32)\n",
        "for c in [c for c in df.columns if c.endswith('tude')]:\n",
        "    df.loc[:,c] = df[c].astype(np.float32)"
      ],
      "execution_count": 0,
      "outputs": []
    },
    {
      "metadata": {
        "id": "w_S4RH6l7uUC",
        "colab_type": "code",
        "colab": {}
      },
      "cell_type": "code",
      "source": [
        "df.info()\n",
        "df.describe()"
      ],
      "execution_count": 0,
      "outputs": []
    },
    {
      "metadata": {
        "id": "UD-WXzQC9CiE",
        "colab_type": "code",
        "colab": {}
      },
      "cell_type": "code",
      "source": [
        "df_test = pd.read_csv(dataPath+'test.csv')\n",
        "df_test.passenger_count = df_test.passenger_count.astype(np.uint8)\n",
        "df_test.vendor_id = df_test.vendor_id.astype(np.uint8)\n",
        "for c in [c for c in df_test.columns if c.endswith('tude')]:\n",
        "    df_test.loc[:,c] = df_test[c].astype(np.float32)\n",
        "df_test.info()"
      ],
      "execution_count": 0,
      "outputs": []
    },
    {
      "metadata": {
        "id": "BkiTkC1fotSh",
        "colab_type": "code",
        "colab": {}
      },
      "cell_type": "code",
      "source": [
        "features = df[['passenger_count', 'pickup_longitude', 'pickup_latitude', 'dropoff_longitude', 'dropoff_latitude']]\n",
        "target = df[['trip_duration']]"
      ],
      "execution_count": 0,
      "outputs": []
    },
    {
      "metadata": {
        "id": "cvT3rY8N-7k_",
        "colab_type": "code",
        "colab": {
          "base_uri": "https://localhost:8080/",
          "height": 336
        },
        "outputId": "5a3131d6-7c52-4c4b-eb72-4bee11754117"
      },
      "cell_type": "code",
      "source": [
        "# print(features.shape,type(features))\n",
        "# print(target.shape,type(target))\n",
        "print(features.head())\n",
        "print(target.head())"
      ],
      "execution_count": 30,
      "outputs": [
        {
          "output_type": "stream",
          "text": [
            "   passenger_count  pickup_longitude  pickup_latitude  dropoff_longitude  \\\n",
            "0                1        -73.982155        40.767937         -73.964630   \n",
            "1                1        -73.980415        40.738564         -73.999481   \n",
            "2                1        -73.979027        40.763939         -74.005333   \n",
            "3                1        -74.010040        40.719971         -74.012268   \n",
            "4                1        -73.973053        40.793209         -73.972923   \n",
            "\n",
            "   dropoff_latitude  \n",
            "0         40.765602  \n",
            "1         40.731152  \n",
            "2         40.710087  \n",
            "3         40.706718  \n",
            "4         40.782520  \n",
            "   trip_duration\n",
            "0            455\n",
            "1            663\n",
            "2           2124\n",
            "3            429\n",
            "4            435\n"
          ],
          "name": "stdout"
        }
      ]
    },
    {
      "metadata": {
        "id": "T2xzGvirzcQj",
        "colab_type": "text"
      },
      "cell_type": "markdown",
      "source": [
        "### 训练\n",
        "主要是关于regressor的定义吧？（此处还有待进一步的学习！）"
      ]
    },
    {
      "metadata": {
        "id": "xzZPv5COnqnW",
        "colab_type": "code",
        "colab": {}
      },
      "cell_type": "code",
      "source": [
        "def rmsle(evaluator,X,real):\n",
        "    sum = 0.0\n",
        "    predicted = evaluator.predict(X)\n",
        "    print(\"Number predicted less than 0: {}\".format(np.where(predicted < 0)[0].shape))\n",
        "\n",
        "    predicted[predicted < 0] = 0\n",
        "    for x in range(len(predicted)):\n",
        "        p = np.log(predicted[x]+1)\n",
        "        r = np.log(real[x]+1)\n",
        "        sum = sum + (p-r)**2\n",
        "    return (sum/len(predicted))**0.5"
      ],
      "execution_count": 0,
      "outputs": []
    },
    {
      "metadata": {
        "id": "DT7xntGFlF1b",
        "colab_type": "code",
        "colab": {
          "base_uri": "https://localhost:8080/",
          "height": 202
        },
        "outputId": "6b35022d-f097-4023-ef7e-e16ed2fb7d1e"
      },
      "cell_type": "code",
      "source": [
        "reg = xgb.XGBRegressor(n_estimators=100, learning_rate=0.08, gamma=0, subsample=0.75, colsample_bytree=1, max_depth=7)\n",
        "cv = ShuffleSplit(n_splits=4, test_size=0.1, random_state=0)\n",
        "print(cross_val_score(reg, features, np.ravel(target), cv=cv, scoring=rmsle))\n",
        "reg.fit(features, target)"
      ],
      "execution_count": 32,
      "outputs": [
        {
          "output_type": "stream",
          "text": [
            "Number predicted less than 0: (3,)\n",
            "Number predicted less than 0: (7,)\n",
            "Number predicted less than 0: (8,)\n",
            "Number predicted less than 0: (6,)\n",
            "[0.64925179 0.65498191 0.66591876 0.65287333]\n"
          ],
          "name": "stdout"
        },
        {
          "output_type": "execute_result",
          "data": {
            "text/plain": [
              "XGBRegressor(base_score=0.5, booster='gbtree', colsample_bylevel=1,\n",
              "       colsample_bytree=1, gamma=0, learning_rate=0.08, max_delta_step=0,\n",
              "       max_depth=7, min_child_weight=1, missing=None, n_estimators=100,\n",
              "       n_jobs=1, nthread=None, objective='reg:linear', random_state=0,\n",
              "       reg_alpha=0, reg_lambda=1, scale_pos_weight=1, seed=None,\n",
              "       silent=True, subsample=0.75)"
            ]
          },
          "metadata": {
            "tags": []
          },
          "execution_count": 32
        }
      ]
    },
    {
      "metadata": {
        "id": "luLxH0jU0LCL",
        "colab_type": "text"
      },
      "cell_type": "markdown",
      "source": [
        "### 测试\n",
        "1、包括与训练数据一致的数据处理方式\n",
        "\n",
        "2、测试结果的保存\n",
        "\n",
        "3、模型文件？？"
      ]
    },
    {
      "metadata": {
        "id": "OUM5Uw1qogRI",
        "colab_type": "code",
        "colab": {}
      },
      "cell_type": "code",
      "source": [
        "testf = df_test[['passenger_count', 'pickup_longitude', 'pickup_latitude', 'dropoff_longitude', 'dropoff_latitude']]"
      ],
      "execution_count": 0,
      "outputs": []
    },
    {
      "metadata": {
        "id": "b3roz9Bq1y1f",
        "colab_type": "code",
        "colab": {
          "base_uri": "https://localhost:8080/",
          "height": 34
        },
        "outputId": "77027be8-144a-4691-d859-6afe67a19928"
      },
      "cell_type": "code",
      "source": [
        "pred = reg.predict(testf)\n",
        "print(np.where(pred < 0)[0].shape)"
      ],
      "execution_count": 35,
      "outputs": [
        {
          "output_type": "stream",
          "text": [
            "(54,)\n"
          ],
          "name": "stdout"
        }
      ]
    },
    {
      "metadata": {
        "id": "AARdpUJwE_7J",
        "colab_type": "code",
        "colab": {
          "base_uri": "https://localhost:8080/",
          "height": 195
        },
        "outputId": "fec8ef88-8848-4a56-e53c-9c4071796e8e"
      },
      "cell_type": "code",
      "source": [
        "submi = pd.read_csv(dataPath + 'sample_submission.csv')\n",
        "submi.head()"
      ],
      "execution_count": 36,
      "outputs": [
        {
          "output_type": "execute_result",
          "data": {
            "text/html": [
              "<div>\n",
              "<style scoped>\n",
              "    .dataframe tbody tr th:only-of-type {\n",
              "        vertical-align: middle;\n",
              "    }\n",
              "\n",
              "    .dataframe tbody tr th {\n",
              "        vertical-align: top;\n",
              "    }\n",
              "\n",
              "    .dataframe thead th {\n",
              "        text-align: right;\n",
              "    }\n",
              "</style>\n",
              "<table border=\"1\" class=\"dataframe\">\n",
              "  <thead>\n",
              "    <tr style=\"text-align: right;\">\n",
              "      <th></th>\n",
              "      <th>id</th>\n",
              "      <th>trip_duration</th>\n",
              "    </tr>\n",
              "  </thead>\n",
              "  <tbody>\n",
              "    <tr>\n",
              "      <th>0</th>\n",
              "      <td>id3004672</td>\n",
              "      <td>959</td>\n",
              "    </tr>\n",
              "    <tr>\n",
              "      <th>1</th>\n",
              "      <td>id3505355</td>\n",
              "      <td>959</td>\n",
              "    </tr>\n",
              "    <tr>\n",
              "      <th>2</th>\n",
              "      <td>id1217141</td>\n",
              "      <td>959</td>\n",
              "    </tr>\n",
              "    <tr>\n",
              "      <th>3</th>\n",
              "      <td>id2150126</td>\n",
              "      <td>959</td>\n",
              "    </tr>\n",
              "    <tr>\n",
              "      <th>4</th>\n",
              "      <td>id1598245</td>\n",
              "      <td>959</td>\n",
              "    </tr>\n",
              "  </tbody>\n",
              "</table>\n",
              "</div>"
            ],
            "text/plain": [
              "          id  trip_duration\n",
              "0  id3004672            959\n",
              "1  id3505355            959\n",
              "2  id1217141            959\n",
              "3  id2150126            959\n",
              "4  id1598245            959"
            ]
          },
          "metadata": {
            "tags": []
          },
          "execution_count": 36
        }
      ]
    },
    {
      "metadata": {
        "id": "blvXiMDU6ToW",
        "colab_type": "code",
        "colab": {}
      },
      "cell_type": "code",
      "source": [
        "pred[pred < 0] = 0\n",
        "df_test['trip_duration']=pred.astype(int)\n",
        "out = df_test[['id','trip_duration']]\n",
        "out['trip_duration'].isnull().values.any()\n",
        "out.to_csv('pred_xgboost.csv',index=False)"
      ],
      "execution_count": 0,
      "outputs": []
    },
    {
      "metadata": {
        "id": "BURKY_S7FUTF",
        "colab_type": "code",
        "colab": {
          "base_uri": "https://localhost:8080/",
          "height": 34
        },
        "outputId": "7332f924-4060-4b32-c865-3712dcbaa2ff"
      },
      "cell_type": "code",
      "source": [
        "!ls ."
      ],
      "execution_count": 39,
      "outputs": [
        {
          "output_type": "stream",
          "text": [
            "datalab  kaggle  pred_xgboost.csv\r\n"
          ],
          "name": "stdout"
        }
      ]
    },
    {
      "metadata": {
        "id": "tvQ0nPB8Fl0d",
        "colab_type": "code",
        "colab": {
          "base_uri": "https://localhost:8080/",
          "height": 195
        },
        "outputId": "8cfe224f-1641-4cd8-fd94-a8933108768b"
      },
      "cell_type": "code",
      "source": [
        "mysub = pd.read_csv('pred_xgboost.csv')\n",
        "mysub.head()"
      ],
      "execution_count": 40,
      "outputs": [
        {
          "output_type": "execute_result",
          "data": {
            "text/html": [
              "<div>\n",
              "<style scoped>\n",
              "    .dataframe tbody tr th:only-of-type {\n",
              "        vertical-align: middle;\n",
              "    }\n",
              "\n",
              "    .dataframe tbody tr th {\n",
              "        vertical-align: top;\n",
              "    }\n",
              "\n",
              "    .dataframe thead th {\n",
              "        text-align: right;\n",
              "    }\n",
              "</style>\n",
              "<table border=\"1\" class=\"dataframe\">\n",
              "  <thead>\n",
              "    <tr style=\"text-align: right;\">\n",
              "      <th></th>\n",
              "      <th>id</th>\n",
              "      <th>trip_duration</th>\n",
              "    </tr>\n",
              "  </thead>\n",
              "  <tbody>\n",
              "    <tr>\n",
              "      <th>0</th>\n",
              "      <td>id3004672</td>\n",
              "      <td>900</td>\n",
              "    </tr>\n",
              "    <tr>\n",
              "      <th>1</th>\n",
              "      <td>id3505355</td>\n",
              "      <td>711</td>\n",
              "    </tr>\n",
              "    <tr>\n",
              "      <th>2</th>\n",
              "      <td>id1217141</td>\n",
              "      <td>619</td>\n",
              "    </tr>\n",
              "    <tr>\n",
              "      <th>3</th>\n",
              "      <td>id2150126</td>\n",
              "      <td>1226</td>\n",
              "    </tr>\n",
              "    <tr>\n",
              "      <th>4</th>\n",
              "      <td>id1598245</td>\n",
              "      <td>684</td>\n",
              "    </tr>\n",
              "  </tbody>\n",
              "</table>\n",
              "</div>"
            ],
            "text/plain": [
              "          id  trip_duration\n",
              "0  id3004672            900\n",
              "1  id3505355            711\n",
              "2  id1217141            619\n",
              "3  id2150126           1226\n",
              "4  id1598245            684"
            ]
          },
          "metadata": {
            "tags": []
          },
          "execution_count": 40
        }
      ]
    },
    {
      "metadata": {
        "id": "IPDiPT9iG3ou",
        "colab_type": "code",
        "colab": {
          "base_uri": "https://localhost:8080/",
          "height": 34
        },
        "outputId": "c5eddce4-07cb-4eb8-aaf4-e0c53b2b2e1a"
      },
      "cell_type": "code",
      "source": [
        "!ls ."
      ],
      "execution_count": 43,
      "outputs": [
        {
          "output_type": "stream",
          "text": [
            "datalab  kaggle  pred_xgboost.csv\r\n"
          ],
          "name": "stdout"
        }
      ]
    },
    {
      "metadata": {
        "id": "baiA1Z7n6v41",
        "colab_type": "text"
      },
      "cell_type": "markdown",
      "source": [
        "### 保存模型结果\n",
        "可以使用`plot_tree(模型)`查看训练的`xgboost`树结构"
      ]
    },
    {
      "metadata": {
        "id": "OS5HIAjD6p4D",
        "colab_type": "code",
        "colab": {}
      },
      "cell_type": "code",
      "source": [
        "from xgboost import plot_tree\n",
        "plot_tree(reg)"
      ],
      "execution_count": 0,
      "outputs": []
    },
    {
      "metadata": {
        "id": "QVQyKen76utm",
        "colab_type": "code",
        "colab": {}
      },
      "cell_type": "code",
      "source": [
        "import pickle\n",
        "pickle.dump(reg, open('xgb_model.sav','wb'),protocol=2)"
      ],
      "execution_count": 0,
      "outputs": []
    },
    {
      "metadata": {
        "id": "5JNbbRs1Ggrp",
        "colab_type": "text"
      },
      "cell_type": "markdown",
      "source": [
        "# 上传结果"
      ]
    },
    {
      "metadata": {
        "id": "J46gw3-nGjif",
        "colab_type": "code",
        "colab": {
          "base_uri": "https://localhost:8080/",
          "height": 34
        },
        "outputId": "93fdf72a-e25d-4ec8-c4c2-38ae1c79d1e3"
      },
      "cell_type": "code",
      "source": [
        "!kaggle competitions submit -c nyc-taxi-trip-duration -f pred_xgboost.csv -m \"Commit from colab\""
      ],
      "execution_count": 44,
      "outputs": [
        {
          "output_type": "stream",
          "text": [
            "Successfully submitted to New York City Taxi Trip Duration"
          ],
          "name": "stdout"
        }
      ]
    }
  ]
}