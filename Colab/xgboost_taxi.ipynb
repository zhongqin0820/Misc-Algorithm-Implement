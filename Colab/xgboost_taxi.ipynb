{
  "nbformat": 4,
  "nbformat_minor": 0,
  "metadata": {
    "colab": {
      "name": "xgboost.ipynb",
      "version": "0.3.2",
      "provenance": [],
      "collapsed_sections": [],
      "toc_visible": true,
      "include_colab_link": true
    },
    "kernelspec": {
      "name": "python3",
      "display_name": "Python 3"
    },
    "accelerator": "GPU"
  },
  "cells": [
    {
      "cell_type": "markdown",
      "metadata": {
        "id": "view-in-github",
        "colab_type": "text"
      },
      "source": [
        "[View in Colaboratory](https://colab.research.google.com/github/zhongqin0820/Misc-Algorithm-Implement/blob/master/Colab/xgboost_taxi.ipynb)"
      ]
    },
    {
      "metadata": {
        "id": "4pm6_jZH7nEp",
        "colab_type": "text"
      },
      "cell_type": "markdown",
      "source": [
        "# 配置环境"
      ]
    },
    {
      "metadata": {
        "id": "j_1UZWedzp33",
        "colab_type": "text"
      },
      "cell_type": "markdown",
      "source": [
        "## Kaggle API\n",
        "注意此处使用的链接中谷歌OAuth2的验证码"
      ]
    },
    {
      "metadata": {
        "id": "_Z2w-djO7b5j",
        "colab_type": "code",
        "colab": {}
      },
      "cell_type": "code",
      "source": [
        "!pip install -U -q kaggle"
      ],
      "execution_count": 0,
      "outputs": []
    },
    {
      "metadata": {
        "id": "s_MUjVCVa0P0",
        "colab_type": "code",
        "colab": {
          "base_uri": "https://localhost:8080/",
          "height": 34
        },
        "outputId": "c065a376-d6ff-4039-eb48-4b53bad864de"
      },
      "cell_type": "code",
      "source": [
        "from googleapiclient.discovery import build\n",
        "import io, os\n",
        "from googleapiclient.http import MediaIoBaseDownload\n",
        "from google.colab import auth\n",
        "auth.authenticate_user()\n",
        "drive_service = build('drive', 'v3')\n",
        "results = drive_service.files().list(\n",
        "        q=\"name = 'kaggle.json'\", fields=\"files(id)\").execute()\n",
        "kaggle_api_key = results.get('files', [])\n",
        "filename = \"/content/.kaggle/kaggle.json\"\n",
        "os.makedirs(os.path.dirname(filename), exist_ok=True)\n",
        "request = drive_service.files().get_media(fileId=kaggle_api_key[0]['id'])\n",
        "fh = io.FileIO(filename, 'wb')\n",
        "downloader = MediaIoBaseDownload(fh, request)\n",
        "done = False\n",
        "while done is False:\n",
        "    status, done = downloader.next_chunk()\n",
        "    print(\"Download %d%%.\" % int(status.progress() * 100))\n",
        "os.chmod(filename, 600)"
      ],
      "execution_count": 2,
      "outputs": [
        {
          "output_type": "stream",
          "text": [
            "Download 100%.\n"
          ],
          "name": "stdout"
        }
      ]
    },
    {
      "metadata": {
        "id": "G-1Ws-K1b4tF",
        "colab_type": "code",
        "colab": {
          "base_uri": "https://localhost:8080/",
          "height": 386
        },
        "outputId": "b914c696-f532-4de9-e532-b0cf6f84f359"
      },
      "cell_type": "code",
      "source": [
        "!kaggle competitions list"
      ],
      "execution_count": 3,
      "outputs": [
        {
          "output_type": "stream",
          "text": [
            "ref                                              deadline             category            reward  teamCount  userHasEntered  \r\n",
            "-----------------------------------------------  -------------------  ---------------  ---------  ---------  --------------  \r\n",
            "house-prices-advanced-regression-techniques      2030-01-01 00:00:00  Getting Started  Knowledge       4806           False  \r\n",
            "digit-recognizer                                 2030-01-01 00:00:00  Getting Started  Knowledge       2642           False  \r\n",
            "titanic                                          2030-01-01 00:00:00  Getting Started  Knowledge      10380           False  \r\n",
            "imagenet-object-localization-challenge           2029-12-31 07:00:00  Research         Knowledge         20           False  \r\n",
            "competitive-data-science-predict-future-sales    2019-01-01 23:59:00  Playground           Kudos       1061           False  \r\n",
            "tgs-salt-identification-challenge                2018-10-19 23:59:00  Featured          $100,000        613           False  \r\n",
            "new-york-city-taxi-fare-prediction               2018-09-25 23:59:00  Playground       Knowledge        185           False  \r\n",
            "flavours-of-physics-kernels-only                 2018-09-24 23:59:00  Playground       Knowledge         29           False  \r\n",
            "forest-cover-type-kernels-only                   2018-09-24 23:59:00  Playground       Knowledge        166           False  \r\n",
            "whats-cooking-kernels-only                       2018-09-24 23:59:00  Playground       Knowledge        182           False  \r\n",
            "movie-review-sentiment-analysis-kernels-only     2018-09-24 23:59:00  Playground       Knowledge        127           False  \r\n",
            "demand-forecasting-kernels-only                  2018-09-24 23:59:00  Playground       Knowledge        147           False  \r\n",
            "costa-rican-household-poverty-prediction         2018-09-19 23:59:00  Playground            Swag        196           False  \r\n",
            "google-ai-open-images-object-detection-track     2018-08-30 23:59:00  Featured           $30,000        303           False  \r\n",
            "google-ai-open-images-visual-relationship-track  2018-08-30 23:59:00  Featured           $20,000         86           False  \r\n",
            "home-credit-default-risk                         2018-08-29 23:59:00  Featured           $70,000       5496           False  \r\n",
            "santander-value-prediction-challenge             2018-08-20 23:59:00  Featured           $60,000       3842           False  \r\n",
            "trackml-particle-identification                  2018-08-13 23:59:00  Featured           $25,000        578           False  \r\n",
            "youtube8m-2018                                   2018-08-06 23:59:00  Featured           $25,000        376           False  \r\n",
            "freesound-audio-tagging                          2018-08-01 11:59:00  Research         Knowledge        552           False  \r\n"
          ],
          "name": "stdout"
        }
      ]
    },
    {
      "metadata": {
        "id": "fQ5q7yjCdbwh",
        "colab_type": "text"
      },
      "cell_type": "markdown",
      "source": [
        "### 下载数据集到GoogleDrive\n",
        "使用\n",
        "```\n",
        "!kaggle competitions download -c nyc-taxi-trip-duration -p /content/kaggle\n",
        "```\n",
        "指定数据下载到目录`/content/kaggle`"
      ]
    },
    {
      "metadata": {
        "id": "Tlv_jFsLYuP_",
        "colab_type": "code",
        "colab": {
          "base_uri": "https://localhost:8080/",
          "height": 67
        },
        "outputId": "718650b8-d59f-4a1b-9f15-6614baa174ea"
      },
      "cell_type": "code",
      "source": [
        "!kaggle competitions download -c nyc-taxi-trip-duration -p /content/kaggle"
      ],
      "execution_count": 4,
      "outputs": [
        {
          "output_type": "stream",
          "text": [
            "sample_submission.zip: Skipping, found more recently modified local copy (use --force to force download)\n",
            "test.zip: Skipping, found more recently modified local copy (use --force to force download)\n",
            "train.zip: Skipping, found more recently modified local copy (use --force to force download)\n"
          ],
          "name": "stdout"
        }
      ]
    },
    {
      "metadata": {
        "id": "5-qreLHocLY7",
        "colab_type": "code",
        "colab": {
          "base_uri": "https://localhost:8080/",
          "height": 34
        },
        "outputId": "e762eec6-c08e-4837-ed19-4836d038321d"
      },
      "cell_type": "code",
      "source": [
        "!ls /content/kaggle # list the content in /content/kaggle"
      ],
      "execution_count": 5,
      "outputs": [
        {
          "output_type": "stream",
          "text": [
            "sample_submission.zip  taxi  test.zip  train.zip\r\n"
          ],
          "name": "stdout"
        }
      ]
    },
    {
      "metadata": {
        "id": "rynaeiWBgI5P",
        "colab_type": "text"
      },
      "cell_type": "markdown",
      "source": [
        "## XGBoost\n",
        "下载依赖包"
      ]
    },
    {
      "metadata": {
        "id": "MfUQwL3Baqzd",
        "colab_type": "code",
        "colab": {}
      },
      "cell_type": "code",
      "source": [
        "!pip install -U -q numpy\n",
        "!pip install -U -q pandas\n",
        "!pip install -U -q matplotlib\n",
        "!pip install -U -q sklearn\n",
        "!pip install -U -q xgboost # to use XGBoost"
      ],
      "execution_count": 0,
      "outputs": []
    },
    {
      "metadata": {
        "id": "_fQLsewFgSTz",
        "colab_type": "text"
      },
      "cell_type": "markdown",
      "source": [
        "### 预处理\n",
        "使用zipfile解压数据， 也可以直接使用pandas读取数据的时候指定数据的解压方式等。"
      ]
    },
    {
      "metadata": {
        "id": "_J2SYUochfKk",
        "colab_type": "code",
        "colab": {}
      },
      "cell_type": "code",
      "source": [
        "import zipfile\n",
        "import os\n",
        "for file in os.listdir(r'/content/kaggle/'):\n",
        "    print('/content/kaggle/'+file)\n",
        "    f = zipfile.ZipFile('/content/kaggle/'+file, 'r')\n",
        "    for file in f.namelist():\n",
        "        f.extract(file,\"/content/kaggle/taxi/\")"
      ],
      "execution_count": 0,
      "outputs": []
    },
    {
      "metadata": {
        "id": "My2W3jOUiwk0",
        "colab_type": "code",
        "colab": {
          "base_uri": "https://localhost:8080/",
          "height": 34
        },
        "outputId": "ac0eac2d-0209-4f71-cea1-9f9397d3a31e"
      },
      "cell_type": "code",
      "source": [
        "!ls /content/kaggle/taxi/"
      ],
      "execution_count": 8,
      "outputs": [
        {
          "output_type": "stream",
          "text": [
            "sample_submission.csv  test.csv  train.csv\r\n"
          ],
          "name": "stdout"
        }
      ]
    },
    {
      "metadata": {
        "id": "xMbjp3aA7gLF",
        "colab_type": "code",
        "colab": {}
      },
      "cell_type": "code",
      "source": [
        "import numpy as np\n",
        "import pandas as pd\n",
        "import matplotlib.pyplot as plt\n",
        "import xgboost as xgb\n",
        "%matplotlib inline\n",
        "dataPath = '/content/kaggle/taxi/'"
      ],
      "execution_count": 0,
      "outputs": []
    },
    {
      "metadata": {
        "id": "ocLkTD90ljlV",
        "colab_type": "code",
        "colab": {}
      },
      "cell_type": "code",
      "source": [
        "from sklearn.model_selection import ShuffleSplit\n",
        "from sklearn.model_selection import cross_val_score\n",
        "from sklearn.grid_search import GridSearchCV"
      ],
      "execution_count": 0,
      "outputs": []
    },
    {
      "metadata": {
        "id": "Wr9N08iUzExu",
        "colab_type": "text"
      },
      "cell_type": "markdown",
      "source": [
        "需要处理header的情况，以及注意features和label的维数是否一致的问题"
      ]
    },
    {
      "metadata": {
        "id": "M1fm4_iq7mB2",
        "colab_type": "code",
        "colab": {
          "base_uri": "https://localhost:8080/",
          "height": 34
        },
        "outputId": "713a4f6d-35c0-4c25-fdcf-09a597a922e2"
      },
      "cell_type": "code",
      "source": [
        "df = pd.read_csv(dataPath+'train.csv')\n",
        "df.passenger_count = df.passenger_count.astype(np.uint8)\n",
        "df.vendor_id = df.vendor_id.astype(np.uint8)\n",
        "df.trip_duration = df.trip_duration.astype(np.uint32)\n",
        "for c in [c for c in df.columns if c.endswith('tude')]:\n",
        "    df.loc[:,c] = df[c].astype(np.float32)\n",
        "print(df.memory_usage().sum()/2**20)\n",
        "df.pickup_datetime=pd.to_datetime(df.pickup_datetime)\n",
        "df.dropoff_datetime=pd.to_datetime(df.dropoff_datetime)\n",
        "df['pu_hour'] = df.pickup_datetime.dt.hour\n",
        "df['yday'] = df.pickup_datetime.dt.dayofyear\n",
        "df['wday'] = df.pickup_datetime.dt.dayofweek\n",
        "df['month'] = df.pickup_datetime.dt.month\n",
        "# print(df.head())"
      ],
      "execution_count": 11,
      "outputs": [
        {
          "output_type": "stream",
          "text": [
            "75.11792755126953\n"
          ],
          "name": "stdout"
        }
      ]
    },
    {
      "metadata": {
        "id": "BkiTkC1fotSh",
        "colab_type": "code",
        "colab": {}
      },
      "cell_type": "code",
      "source": [
        "# features = df[['passenger_count', 'pickup_longitude', 'pickup_latitude', 'dropoff_longitude', 'dropoff_latitude', 'pu_hour', 'yday', 'wday', 'month']]\n",
        "features = df[['passenger_count', 'pickup_longitude', 'pickup_latitude', 'dropoff_longitude', 'dropoff_latitude']]\n",
        "target = df['trip_duration']\n",
        "features.to_csv('tf.csv', index=False)\n",
        "target.to_csv('tl.csv', index=False)"
      ],
      "execution_count": 0,
      "outputs": []
    },
    {
      "metadata": {
        "id": "RxilegU3r8O6",
        "colab_type": "code",
        "colab": {}
      },
      "cell_type": "code",
      "source": [
        "features = pd.read_csv('tf.csv', skiprows=1)\n",
        "target = pd.read_csv('tl.csv')"
      ],
      "execution_count": 0,
      "outputs": []
    },
    {
      "metadata": {
        "id": "O01UDF7mvKz4",
        "colab_type": "code",
        "colab": {
          "base_uri": "https://localhost:8080/",
          "height": 151
        },
        "outputId": "3e64bdf1-11cb-4505-9eca-29740f9c3a79"
      },
      "cell_type": "code",
      "source": [
        "print(features.shape)\n",
        "print(target.shape)\n",
        "print(features.head())"
      ],
      "execution_count": 14,
      "outputs": [
        {
          "output_type": "stream",
          "text": [
            "(1458643, 5)\n",
            "(1458643, 1)\n",
            "   1  -73.982155  40.767937  -73.96463  40.765602\n",
            "0  1  -73.980415  40.738564  -73.99948  40.731150\n",
            "1  1  -73.979030  40.763940  -74.00533  40.710087\n",
            "2  1  -74.010040  40.719970  -74.01227  40.706720\n",
            "3  1  -73.973050  40.793210  -73.97292  40.782520\n",
            "4  6  -73.982860  40.742195  -73.99208  40.749184\n"
          ],
          "name": "stdout"
        }
      ]
    },
    {
      "metadata": {
        "id": "T2xzGvirzcQj",
        "colab_type": "text"
      },
      "cell_type": "markdown",
      "source": [
        "### 训练\n",
        "主要是关于regressor的定义吧？（此处还有待进一步的学习！）"
      ]
    },
    {
      "metadata": {
        "id": "xzZPv5COnqnW",
        "colab_type": "code",
        "colab": {}
      },
      "cell_type": "code",
      "source": [
        "def rmsle(evaluator,X,real):\n",
        "    sum = 0.0\n",
        "    predicted = evaluator.predict(X)\n",
        "    print(\"Number predicted less than 0: {}\".format(np.where(predicted < 0)[0].shape))\n",
        "\n",
        "    predicted[predicted < 0] = 0\n",
        "    for x in range(len(predicted)):\n",
        "        p = np.log(predicted[x]+1)\n",
        "        r = np.log(real[x]+1)\n",
        "        sum = sum + (p-r)**2\n",
        "    return (sum/len(predicted))**0.5"
      ],
      "execution_count": 0,
      "outputs": []
    },
    {
      "metadata": {
        "id": "DT7xntGFlF1b",
        "colab_type": "code",
        "colab": {}
      },
      "cell_type": "code",
      "source": [
        "reg = xgb.XGBRegressor(n_estimators=100, learning_rate=0.08, gamma=0, subsample=0.75, colsample_bytree=1, max_depth=7)\n",
        "cv = ShuffleSplit(n_splits=4, test_size=0.1, random_state=0)\n",
        "print(cross_val_score(reg, features, np.ravel(target), cv=cv, scoring=rmsle))\n",
        "reg.fit(features, target)"
      ],
      "execution_count": 0,
      "outputs": []
    },
    {
      "metadata": {
        "id": "luLxH0jU0LCL",
        "colab_type": "text"
      },
      "cell_type": "markdown",
      "source": [
        "### 测试\n",
        "1、包括与训练数据一致的数据处理方式\n",
        "\n",
        "2、测试结果的保存\n",
        "\n",
        "3、模型文件？？"
      ]
    },
    {
      "metadata": {
        "id": "OUM5Uw1qogRI",
        "colab_type": "code",
        "colab": {
          "base_uri": "https://localhost:8080/",
          "height": 34
        },
        "outputId": "313d2121-80eb-4248-de41-2a71ff3109a5"
      },
      "cell_type": "code",
      "source": [
        "tdf = pd.read_csv(dataPath+'test.csv')\n",
        "tdf.passenger_count = tdf.passenger_count.astype(np.uint8)\n",
        "for c in [c for c in tdf.columns if c.endswith('tude')]:\n",
        "    tdf.loc[:,c] = tdf[c].astype(np.float32)\n",
        "print(tdf.memory_usage().sum()/2**20)\n",
        "testf = tdf[['passenger_count', 'pickup_longitude', 'pickup_latitude', 'dropoff_longitude', 'dropoff_latitude']]\n",
        "\n",
        "testf.to_csv('test.csv', index=False)\n",
        "# print(testf.head())\n",
        "tfeatures = pd.read_csv('test.csv', skiprows=2)\n",
        "# print(tfeatures.head())"
      ],
      "execution_count": 29,
      "outputs": [
        {
          "output_type": "stream",
          "text": [
            "29.212614059448242\n"
          ],
          "name": "stdout"
        }
      ]
    },
    {
      "metadata": {
        "id": "8pMeIep6_iYe",
        "colab_type": "code",
        "colab": {
          "base_uri": "https://localhost:8080/",
          "height": 118
        },
        "outputId": "98610edd-fe89-49d2-b632-90aa553ef451"
      },
      "cell_type": "code",
      "source": [
        "tfeatures = pd.read_csv('test.csv', skiprows=1)\n",
        "print(tfeatures.head())"
      ],
      "execution_count": 30,
      "outputs": [
        {
          "output_type": "stream",
          "text": [
            "   1  -73.98813   40.73203  -73.99017   40.75668\n",
            "0  1 -73.964200  40.679993 -73.959810  40.655403\n",
            "1  1 -73.997440  40.737583 -73.986160  40.729523\n",
            "2  1 -73.956070  40.771900 -73.986430  40.730470\n",
            "3  1 -73.970215  40.761475 -73.961510  40.755890\n",
            "4  1 -73.991300  40.749798 -73.980515  40.786550\n"
          ],
          "name": "stdout"
        }
      ]
    },
    {
      "metadata": {
        "id": "b3roz9Bq1y1f",
        "colab_type": "code",
        "colab": {}
      },
      "cell_type": "code",
      "source": [
        "pred = reg.predict(tfeatures)\n",
        "print(np.where(pred < 0)[0].shape)"
      ],
      "execution_count": 0,
      "outputs": []
    },
    {
      "metadata": {
        "id": "blvXiMDU6ToW",
        "colab_type": "code",
        "colab": {}
      },
      "cell_type": "code",
      "source": [
        "pred[pred < 0] = 0\n",
        "tdf['trip_duration']=pred.astype(int)\n",
        "out = tdf[['id','trip_duration']]\n",
        "out['trip_duration'].isnull().values.any()\n",
        "out.to_csv('pred_xgboost.csv',index=False)"
      ],
      "execution_count": 0,
      "outputs": []
    },
    {
      "metadata": {
        "id": "baiA1Z7n6v41",
        "colab_type": "text"
      },
      "cell_type": "markdown",
      "source": [
        "### 保存模型结果\n",
        "可以使用`plot_tree(模型)`查看训练的`xgboost`树结构"
      ]
    },
    {
      "metadata": {
        "id": "OS5HIAjD6p4D",
        "colab_type": "code",
        "colab": {}
      },
      "cell_type": "code",
      "source": [
        "from xgboost import plot_tree\n",
        "plot_tree(reg)"
      ],
      "execution_count": 0,
      "outputs": []
    },
    {
      "metadata": {
        "id": "QVQyKen76utm",
        "colab_type": "code",
        "colab": {}
      },
      "cell_type": "code",
      "source": [
        "import pickle\n",
        "pickle.dump(reg, open('xgb_model.sav','wb'),protocol=2)"
      ],
      "execution_count": 0,
      "outputs": []
    },
    {
      "metadata": {
        "id": "lAxGi1_qEhnC",
        "colab_type": "text"
      },
      "cell_type": "markdown",
      "source": [
        "### 问题\n",
        "\n",
        "输入和输出数据不匹配..."
      ]
    }
  ]
}