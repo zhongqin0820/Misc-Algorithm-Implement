{
 "cells": [
  {
   "cell_type": "code",
   "execution_count": null,
   "metadata": {},
   "outputs": [],
   "source": [
    "from tensorflow.examples.tutorials.mnist import input_data\n",
    "import tensorflow as tf\n",
    "print(tf.__version__)"
   ]
  },
  {
   "cell_type": "code",
   "execution_count": null,
   "metadata": {},
   "outputs": [],
   "source": [
    "data = input_data.read_data_sets('../data/MNIST', one_hot=True)\n",
    "batch_size = 100\n",
    "n_batch = data.train.num_samples // batch_size"
   ]
  },
  {
   "cell_type": "code",
   "execution_count": null,
   "metadata": {},
   "outputs": [],
   "source": [
    "x = tf.placeholder(tf.float32, [None, 784])\n",
    "y = tf.placeholder(tf.float32, [None, 10])"
   ]
  },
  {
   "cell_type": "code",
   "execution_count": null,
   "metadata": {},
   "outputs": [],
   "source": [
    "w_1 = tf.Variable(tf.random_normal([784, 10]))\n",
    "b_1 = tf.Variable(tf.zeros([10]))\n",
    "o_1 = tf.nn.tanh(tf.matmul(x, w_1) + b_1)\n",
    "w_2 = tf.Variable(tf.random_normal([10, 1]))\n",
    "b_2 = tf.Variable(tf.zeros([1]))\n",
    "pred = tf.nn.softmax(tf.matmul(o_1,w_2)+b_2)"
   ]
  },
  {
   "cell_type": "code",
   "execution_count": null,
   "metadata": {},
   "outputs": [],
   "source": [
    "cor = tf.equal(tf.arg_max(y,1),tf.arg_max(pred,1))\n",
    "acc = tf.reduce_mean(tf.cast(cor, float32))"
   ]
  },
  {
   "cell_type": "code",
   "execution_count": null,
   "metadata": {},
   "outputs": [],
   "source": [
    "loss = tf.reduce_mean(tf.square(y-pred))\n",
    "train = tf.train.AdagradOptimizer(0.1).minimize(loss)\n",
    "init = tf.global_variables_initializer()"
   ]
  },
  {
   "cell_type": "code",
   "execution_count": null,
   "metadata": {},
   "outputs": [],
   "source": [
    "with tf.Session() as sess:\n",
    "    sess.run(init)\n",
    "    for i in range(21):\n",
    "        for b in range(n_batch):\n",
    "            b_x, b_y = data.train.next_batch(batch_size)\n",
    "            sess.run(train,feed_dict={x:b_x, y:b_y})\n",
    "    accp = sess.run(acc,feed_dict={x:test.data.images,y:data.test.labels})\n",
    "    print(i, accp)"
   ]
  }
 ],
 "metadata": {
  "colab": {
   "name": "tensorMNIST.ipynb",
   "version": "0.3.2",
   "provenance": [],
   "toc_visible": true
  },
  "kernelspec": {
   "name": "python3",
   "display_name": "Python 3"
  }
 },
 "nbformat": 4,
 "nbformat_minor": 0
}
